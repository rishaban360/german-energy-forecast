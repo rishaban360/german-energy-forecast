{
 "cells": [
  {
   "cell_type": "markdown",
   "metadata": {},
   "source": [
    "# Data Collection"
   ]
  },
  {
   "cell_type": "code",
   "execution_count": 1,
   "metadata": {},
   "outputs": [
    {
     "name": "stdout",
     "output_type": "stream",
     "text": [
      "Project root added to path: d:\\Projects\\PORTF_2_German_Energy_forcast\\german-energy-forcast\n"
     ]
    }
   ],
   "source": [
    "import sys\n",
    "from pathlib import Path\n",
    "\n",
    "# Get the absolute path to the project root\n",
    "current_dir = Path().absolute()\n",
    "project_root = current_dir.parent if 'notebooks' in str(current_dir) else current_dir\n",
    "\n",
    "# Add the project root to Python path\n",
    "if str(project_root) not in sys.path:\n",
    "    sys.path.insert(0, str(project_root))\n",
    "\n",
    "print(f\"Project root added to path: {project_root}\")"
   ]
  },
  {
   "cell_type": "code",
   "execution_count": 2,
   "metadata": {},
   "outputs": [
    {
     "name": "stderr",
     "output_type": "stream",
     "text": [
      "Fetching load data:  28%|██▊       | 29/105 [01:00<03:24,  2.69s/it]2025-02-13 11:35:49,180 - WARNING - Connection Error, retrying in 0 seconds\n",
      "2025-02-13 11:35:51,347 - WARNING - Connection Error, retrying in 0 seconds\n",
      "Fetching load data:  32%|███▏      | 34/105 [01:16<03:10,  2.69s/it]2025-02-13 11:36:09,862 - WARNING - Connection Error, retrying in 0 seconds\n",
      "Fetching load data:  58%|█████▊    | 61/105 [04:00<04:22,  5.97s/it]2025-02-13 11:38:48,984 - WARNING - Connection Error, retrying in 0 seconds\n",
      "Fetching load data: 100%|██████████| 105/105 [07:44<00:00,  4.42s/it]\n",
      "2025-02-13 11:42:32,621 - INFO - Data collection completed. Shape: (70176, 2)\n",
      "2025-02-13 11:42:32,628 - INFO - Actual load points: 69972\n",
      "2025-02-13 11:42:32,628 - INFO - Forecast load points: 70176\n"
     ]
    }
   ],
   "source": [
    "from src.data.data_loader import EntsoeClient\n",
    "from src.config import ENTSOE_API_KEY\n",
    "\n",
    "# Initialize ENTSO-E client\n",
    "client = EntsoeClient(\n",
    "    api_key=ENTSOE_API_KEY,\n",
    "    country_code=\"DE\"  # Germany's country code\n",
    ")\n",
    "\n",
    "# Fetch recent load data\n",
    "actual_load, forecast_load = client.get_load_data(\n",
    "    hours_back=24*365*2,    # Get last 2 year of actual load\n",
    "    forecast_hours=24  # Get next 24 hours of forecast\n",
    ")"
   ]
  },
  {
   "cell_type": "markdown",
   "metadata": {},
   "source": [
    "### Basic information\n"
   ]
  },
  {
   "cell_type": "code",
   "execution_count": 5,
   "metadata": {},
   "outputs": [
    {
     "name": "stdout",
     "output_type": "stream",
     "text": [
      "=== Actual Load Data ===\n",
      "Total data points: 69972\n",
      "Time range: 2023-02-14 12:00:00+01:00 to 2025-02-13 10:45:00+01:00\n",
      "\n",
      "Dataset Shape: (69972,)\n",
      "Time frequency: 0 days 00:15:00\n",
      "Missing values: 0\n",
      "Duplicate timestamps: 0\n",
      "\n",
      "=== Forecast Load Data ===\n",
      "Total data points: 70176\n",
      "Time range: 2023-02-14 11:45:00+01:00 to 2025-02-14 11:30:00+01:00\n",
      "Time frequency: 0 days 00:15:00\n",
      "Missing values: 0\n",
      "Duplicate timestamps: 0\n"
     ]
    }
   ],
   "source": [
    "print(\"=== Actual Load Data ===\")\n",
    "print(f\"Total data points: {len(actual_load)}\")\n",
    "print(f\"Time range: {actual_load.index.min()} to {actual_load.index.max()}\")\n",
    "print(\"\\nDataset Shape:\", actual_load.shape)\n",
    "print(f\"Time frequency: {actual_load.index.to_series().diff().mode()[0]}\")\n",
    "print(f\"Missing values: {actual_load.isnull().sum()}\")\n",
    "print(f\"Duplicate timestamps: {actual_load.index.duplicated().sum()}\\n\")\n",
    "\n",
    "print(\"=== Forecast Load Data ===\")\n",
    "print(f\"Total data points: {len(forecast_load)}\")\n",
    "print(f\"Time range: {forecast_load.index.min()} to {forecast_load.index.max()}\")\n",
    "print(f\"Time frequency: {forecast_load.index.to_series().diff().mode()[0]}\")\n",
    "print(f\"Missing values: {forecast_load.isnull().sum()}\")\n",
    "print(f\"Duplicate timestamps: {forecast_load.index.duplicated().sum()}\")"
   ]
  },
  {
   "cell_type": "markdown",
   "metadata": {},
   "source": [
    "# Weather Data Collection for Load Forecasting"
   ]
  },
  {
   "cell_type": "markdown",
   "metadata": {},
   "source": [
    "## 1. Data Source Selection\n",
    "### Why Weather Data?"
   ]
  },
  {
   "cell_type": "markdown",
   "metadata": {},
   "source": [
    "- Temperature strongly correlates with electricity consumption (heating/cooling needs)\n",
    "- Weather conditions affect renewable energy generation\n",
    "- Essential for accurate load forecasting models|"
   ]
  },
  {
   "cell_type": "markdown",
   "metadata": {},
   "source": [
    "### Selected Data Source: DWD (Deutscher Wetterdienst)\n",
    "**Reasons for choosing DWD:**\n",
    "- Official German weather service with high-quality data\n",
    "- Free access to historical data\n",
    "- High spatial resolution across Germany\n",
    "- Matches our temporal requirements (hourly data available)\n",
    "- Reliable and well-maintained API\n",
    "\n",
    "## 2. Data Collection Requirements\n",
    "- Temporal Coverage: 2023-02-14 to 2025-02-13 (matching load data)\n",
    "- Frequency: Hourly data (can be resampled to 15-min if needed)\n",
    "- Parameters: Temperature, humidity, wind speed, cloud cover\n",
    "- Multiple stations for better coverage of load zones\n",
    "\n",
    "during peak hours, we really only need two key weather parameters:\n",
    "Temperature (most important factor)\n",
    "Cloud cover (affects both cooling needs and lighting usage)"
   ]
  },
  {
   "cell_type": "code",
   "execution_count": 20,
   "metadata": {},
   "outputs": [
    {
     "name": "stderr",
     "output_type": "stream",
     "text": [
      "2025-02-13 13:24:22,909 - INFO - Wetterdienst cache is enabled [CACHE_DIR: C:\\Users\\risha\\AppData\\Local\\wetterdienst\\wetterdienst\\Cache]\n",
      "2025-02-13 13:24:22,910 - INFO - Processing request DwdObservationRequest(parameter=[(air_temperature/air_temperature)], resolution=hourly, period=[None], start_date=2023-02-14 00:00:00+00:00, end_date=2025-02-13 00:00:00+00:00, humanize=True, format=long, si_units=True)\n",
      "2025-02-13 13:24:22,911 - WARNING - The combination of air_temperature, hourly, now is invalid.\n",
      "2025-02-13 13:24:22,915 - INFO - Downloading file https://opendata.dwd.de/climate_environment/CDC/observations_germany/climate//hourly/air_temperature/recent/TU_Stundenwerte_Beschreibung_Stationen.txt.\n",
      "2025-02-13 13:24:22,927 - INFO - Downloading file https://opendata.dwd.de/climate_environment/CDC/observations_germany/climate//hourly/air_temperature/historical/TU_Stundenwerte_Beschreibung_Stationen.txt.\n",
      "2025-02-13 13:24:22,940 - INFO - Filtering for station_id=['00433', '01975', '03379']\n",
      "2025-02-13 13:24:22,942 - INFO - 0%|          | 0/3 [00:00<?, ?it/s]\n",
      "2025-02-13 13:24:22,943 - INFO - Acquiring observation data for air_temperature/hourly/historical/00433/None.\n",
      "2025-02-13 13:24:22,948 - INFO - Downloading file https://opendata.dwd.de/climate_environment/CDC/observations_germany/climate/hourly/air_temperature/historical/stundenwerte_TU_00433_19510101_20231231_hist.zip.\n"
     ]
    },
    {
     "name": "stdout",
     "output_type": "stream",
     "text": [
      "\n",
      "Fetching temperature data for stations: ['00433', '01975', '03379']\n"
     ]
    },
    {
     "name": "stderr",
     "output_type": "stream",
     "text": [
      "2025-02-13 13:25:17,203 - INFO - Acquiring observation data for air_temperature/hourly/recent/00433/None.\n",
      "2025-02-13 13:25:17,208 - INFO - Downloading file https://opendata.dwd.de/climate_environment/CDC/observations_germany/climate/hourly/air_temperature/recent/stundenwerte_TU_00433_akt.zip.\n",
      "2025-02-13 13:25:27,481 - INFO - Invalid combination air_temperature/hourly/Period.NOW is skipped.\n",
      "2025-02-13 13:25:27,926 - INFO - 33%|###3      | 1/3 [01:04<02:09, 64.98s/it]\n",
      "2025-02-13 13:25:27,927 - INFO - Acquiring observation data for air_temperature/hourly/historical/01975/None.\n",
      "2025-02-13 13:25:27,932 - INFO - Downloading file https://opendata.dwd.de/climate_environment/CDC/observations_germany/climate/hourly/air_temperature/historical/stundenwerte_TU_01975_19490101_20231231_hist.zip.\n",
      "2025-02-13 13:25:28,843 - INFO - Acquiring observation data for air_temperature/hourly/recent/01975/None.\n",
      "2025-02-13 13:25:28,851 - INFO - Downloading file https://opendata.dwd.de/climate_environment/CDC/observations_germany/climate/hourly/air_temperature/recent/stundenwerte_TU_01975_akt.zip.\n",
      "2025-02-13 13:25:28,910 - INFO - Invalid combination air_temperature/hourly/Period.NOW is skipped.\n",
      "2025-02-13 13:25:29,507 - INFO - 67%|######6   | 2/3 [01:06<00:27, 27.69s/it]\n",
      "2025-02-13 13:25:29,508 - INFO - Acquiring observation data for air_temperature/hourly/historical/03379/None.\n",
      "2025-02-13 13:25:29,514 - INFO - Downloading file https://opendata.dwd.de/climate_environment/CDC/observations_germany/climate/hourly/air_temperature/historical/stundenwerte_TU_03379_19970701_20231231_hist.zip.\n",
      "2025-02-13 13:25:29,773 - INFO - Acquiring observation data for air_temperature/hourly/recent/03379/None.\n",
      "2025-02-13 13:25:29,778 - INFO - Downloading file https://opendata.dwd.de/climate_environment/CDC/observations_germany/climate/hourly/air_temperature/recent/stundenwerte_TU_03379_akt.zip.\n",
      "2025-02-13 13:25:29,828 - INFO - Invalid combination air_temperature/hourly/Period.NOW is skipped.\n",
      "2025-02-13 13:25:30,030 - INFO - 100%|##########| 3/3 [01:07<00:00, 15.28s/it]\n",
      "2025-02-13 13:25:30,032 - INFO - 100%|##########| 3/3 [01:07<00:00, 22.36s/it]\n"
     ]
    },
    {
     "name": "stdout",
     "output_type": "stream",
     "text": [
      "\n",
      "Raw hourly temperature data saved to: data/raw/weather_temperature_hourly.csv\n",
      "\n",
      "=== Weather Data ===\n",
      "Total data points: 105126\n",
      "Columns: ['station_id', 'dataset', 'parameter', 'date', 'value', 'quality']\n",
      "Time range: 2023-02-14 00:00:00+00:00 to 2025-02-13 00:00:00+00:00\n"
     ]
    }
   ],
   "source": [
    "from wetterdienst import Settings\n",
    "from wetterdienst.provider.dwd.observation import DwdObservationRequest\n",
    "import pandas as pd\n",
    "import os\n",
    "\n",
    "def fetch_weather_data(start_date, end_date):\n",
    "    \"\"\"\n",
    "    Fetch essential weather data (temperature) from DWD for major German cities\n",
    "    \"\"\"\n",
    "    try:\n",
    "        # Just temperature - most important for load forecasting\n",
    "        request = DwdObservationRequest(\n",
    "            parameter=\"temperature_air\",  # Correct parameter name\n",
    "            resolution=\"hourly\",\n",
    "            start_date=start_date,\n",
    "            end_date=end_date\n",
    "        )\n",
    "        \n",
    "        # Selected stations covering major load centers\n",
    "        station_ids = [\n",
    "            \"00433\",  # Berlin-Tempelhof (Northeast)\n",
    "            \"01975\",  # Hamburg-Fuhlsbüttel (North)\n",
    "            \"03379\",  # Frankfurt/Main (Central/West) - major industrial area\n",
    "        ]\n",
    "        \n",
    "        print(f\"\\nFetching temperature data for stations: {station_ids}\")\n",
    "        \n",
    "        # Get values for selected stations\n",
    "        values = request.filter_by_station_id(station_ids).values.all().df\n",
    "        \n",
    "        # Save raw data\n",
    "        if len(values) > 0:\n",
    "            os.makedirs(\"data/raw\", exist_ok=True)\n",
    "            output_path = \"data/raw/weather_temperature_hourly.csv\"\n",
    "            values_pd = values.to_pandas()\n",
    "            values_pd.to_csv(output_path, index=False)\n",
    "            print(f\"\\nRaw hourly temperature data saved to: {output_path}\")\n",
    "            \n",
    "        return values\n",
    "        \n",
    "    except Exception as e:\n",
    "        print(f\"Error fetching data: {str(e)}\")\n",
    "        raise\n",
    "\n",
    "# Test the function\n",
    "start_date = \"2023-02-14\"\n",
    "end_date = \"2025-02-13\"\n",
    "\n",
    "try:\n",
    "    weather_df = fetch_weather_data(start_date, end_date)\n",
    "    print(\"\\n=== Weather Data ===\")\n",
    "    print(f\"Total data points: {len(weather_df)}\")\n",
    "    if len(weather_df) > 0:\n",
    "        print(f\"Columns: {weather_df.columns}\")\n",
    "        print(f\"Time range: {weather_df['date'].min()} to {weather_df['date'].max()}\")\n",
    "    \n",
    "except Exception as e:\n",
    "    print(f\"Error in main execution: {str(e)}\")"
   ]
  },
  {
   "cell_type": "markdown",
   "metadata": {},
   "source": [
    "### SAVE IN .CSV FILE FORMAT"
   ]
  },
  {
   "cell_type": "code",
   "execution_count": null,
   "metadata": {},
   "outputs": [],
   "source": [
    "# Combine with load forecast data\n",
    "# Assuming load_forecast_df is your existing DataFrame\n",
    "def combine_load_and_weather(load_df, weather_df):\n",
    "    \"\"\"\n",
    "    Combine load forecast and weather data\n",
    "    \"\"\"\n",
    "    # Resample weather data to 15-minute intervals\n",
    "    weather_resampled = weather_df.resample('15T').ffill()\n",
    "    \n",
    "    # Merge the datasets\n",
    "    combined_df = pd.merge(\n",
    "        load_df,\n",
    "        weather_resampled,\n",
    "        left_index=True,\n",
    "        right_index=True,\n",
    "        how='left'\n",
    "    )\n",
    "    \n",
    "    return combined_df\n",
    "\n",
    "# Combine and save\n",
    "load_forecast_weather_df = combine_load_and_weather(load_forecast_df, weather_df)\n",
    "\n",
    "# Save to CSV\n",
    "output_path = \"D:/Projects/PORTF_2_German_Energy_forcast/german-energy-forcast/data/raw/load_forecast_weather_df.csv\"\n",
    "load_forecast_weather_df.to_csv(output_path)\n",
    "\n",
    "print(\"\\n=== Combined Dataset ===\")\n",
    "print(f\"Total data points: {len(load_forecast_weather_df)}\")\n",
    "print(f\"Time range: {load_forecast_weather_df.index.min()} to {load_forecast_weather_df.index.max()}\")\n",
    "print(f\"Columns: {load_forecast_weather_df.columns.tolist()}\")\n",
    "print(f\"Data saved to: {output_path}\")"
   ]
  },
  {
   "cell_type": "code",
   "execution_count": 8,
   "metadata": {},
   "outputs": [
    {
     "name": "stdout",
     "output_type": "stream",
     "text": [
      "Data saved successfully to: D:/Projects/PORTF_2_German_Energy_forcast/german-energy-forcast/data/raw/load_forecast_data_2years.csv\n"
     ]
    }
   ],
   "source": [
    "import pandas as pd\n",
    "import numpy as np\n",
    "\n",
    "load_forecast_df = pd.DataFrame({\n",
    "    'Actual Load': actual_load,\n",
    "    'Forecasted Load': forecast_load\n",
    "})\n",
    "\n",
    "# Define the path\n",
    "output_path = r\"D:/Projects/PORTF_2_German_Energy_forcast/german-energy-forcast/data/raw/load_forecast_data_2years.csv\"\n",
    "\n",
    "# Save DataFrame to CSV\n",
    "load_forecast_df.to_csv(output_path, index=True)\n",
    "\n",
    "print(f\"Data saved successfully to: {output_path}\")"
   ]
  }
 ],
 "metadata": {
  "kernelspec": {
   "display_name": ".venv",
   "language": "python",
   "name": "python3"
  },
  "language_info": {
   "codemirror_mode": {
    "name": "ipython",
    "version": 3
   },
   "file_extension": ".py",
   "mimetype": "text/x-python",
   "name": "python",
   "nbconvert_exporter": "python",
   "pygments_lexer": "ipython3",
   "version": "3.9.13"
  }
 },
 "nbformat": 4,
 "nbformat_minor": 2
}
